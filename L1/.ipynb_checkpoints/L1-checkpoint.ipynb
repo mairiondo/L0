{
 "cells": [
  {
   "cell_type": "code",
   "execution_count": 8,
   "metadata": {},
   "outputs": [
    {
     "name": "stdout",
     "output_type": "stream",
     "text": [
      "14\n"
     ]
    }
   ],
   "source": [
    "import comodoro\n",
    "#matriz=comodoro.generar_mapa(1)\n",
    "#comodoro.imprimir_mapa(matriz,matriz)\n",
    "\n",
    "from abc import ABCMeta, abstractmethod\n",
    "\n",
    "class Celda(metaclass=ABCMeta):\n",
    "    \n",
    "    def func_1(self):\n",
    "        pass\n",
    "class CeldaOcupada(Celda):\n",
    "   \n",
    "    def func_1(self):\n",
    "        pass\n",
    "class CeldaVacia(Celda):\n",
    "    \n",
    "    def func_1(self):\n",
    "        pass\n",
    "    \n",
    "class Construcción(CeldaOcupada):\n",
    "    \n",
    "    def __init__(self, tipo):\n",
    "        self.tipo=tipo\n",
    "\n",
    "class Modo(CeldaOcupada):\n",
    "    \n",
    "    def __init__(self, vehiculo):\n",
    "        self.vehiculo=vehiculo\n",
    "        self.velocidad=None\n",
    "        \n",
    "class Persona(CeldaOcupada):\n",
    "    \n",
    "    def __init__(self, número):\n",
    "        self.número=número\n",
    "        \n",
    "        \n",
    "x=Persona(14)\n",
    "print(x.número)\n",
    "    \n",
    "   \n",
    "\n",
    "\n",
    "\n",
    "\n",
    "\n",
    "\n"
   ]
  },
  {
   "cell_type": "code",
   "execution_count": null,
   "metadata": {},
   "outputs": [],
   "source": []
  }
 ],
 "metadata": {
  "kernelspec": {
   "display_name": "Python 3",
   "language": "python",
   "name": "python3"
  },
  "language_info": {
   "codemirror_mode": {
    "name": "ipython",
    "version": 3
   },
   "file_extension": ".py",
   "mimetype": "text/x-python",
   "name": "python",
   "nbconvert_exporter": "python",
   "pygments_lexer": "ipython3",
   "version": "3.7.1"
  }
 },
 "nbformat": 4,
 "nbformat_minor": 2
}
